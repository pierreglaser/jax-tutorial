{
 "cells": [
  {
   "cell_type": "markdown",
   "id": "79b3ba15-2375-4efd-97de-1c5fa6e6d2d4",
   "metadata": {},
   "source": [
    "# Tutorial: JAX\n",
    "\n",
    "The cell below will install the additional required dependencies using `pip` if running the notebook on [Google Colab](https://colab.research.google.com/) - it should do nothing if running locally."
   ]
  },
  {
   "cell_type": "code",
   "execution_count": null,
   "id": "b7c2eb1d-0737-486c-8718-c0ad81c52843",
   "metadata": {},
   "outputs": [],
   "source": [
    "try:\n",
    "    import google.colab\n",
    "    # Running on Google Colab therefore install additional dependencies\n",
    "    !pip install flax numpyro\n",
    "except ImportError:\n",
    "    # Assume dependencies installed if not running on Colab\n",
    "    pass"
   ]
  },
  {
   "cell_type": "markdown",
   "id": "a61a4ff0-537e-42cc-bdfd-2a76ca8de292",
   "metadata": {
    "slideshow": {
     "slide_type": "slide"
    },
    "tags": []
   },
   "source": [
    "## JAX: Intro\n",
    "\n",
    "At a high level, jax is an extensible system for composable function transformations based on trace-specializing functional python code. These transformations include:\n",
    "\n",
    "- Just In Time Compilation\n",
    "- Automatic Differentiation\n",
    "- Automatic Vectorization\n",
    "- Single Program Multiple Device (SMPD) transformations.\n",
    "- And more...\n",
    "\n"
   ]
  },
  {
   "cell_type": "markdown",
   "id": "89bfe947-f766-4771-90cf-711f3d086e04",
   "metadata": {
    "slideshow": {
     "slide_type": "subslide"
    },
    "tags": []
   },
   "source": [
    "The functions on which jax can operate must:\n",
    "\n",
    "- take a (collections of) tensor-like inputs and return (collections of) tensor-like outputs, which are instances of the `DeviceArray` class (similar to np.ndarry instances)\n",
    "- manipulate these tensors using only a set of (closed) primitives exposed in the `jax` libraries, for the most part in the `jax.numpy` and `jax.scipy` modules, and which often have a direct equivalent in `numpy` or `scipy`\n",
    "- be functionally pure: running the same function with the same inputs should yield the same outputs. Functional programming should feel natural when the code logic is the direct translation of mathemtatical operations, a case which is very frequent in Machine Learning.\n",
    "\n",
    "\n",
    "We will start with a few very examples, and expand on that."
   ]
  },
  {
   "cell_type": "markdown",
   "id": "4a294589-a6ed-40f5-a7a4-242e237d7dc6",
   "metadata": {
    "slideshow": {
     "slide_type": "slide"
    },
    "tags": []
   },
   "source": [
    "## Starting simple... The gaussian kernel"
   ]
  },
  {
   "cell_type": "code",
   "execution_count": 45,
   "id": "ae21ec89-b9a1-455d-953c-72532653acf5",
   "metadata": {
    "slideshow": {
     "slide_type": "skip"
    },
    "tags": []
   },
   "outputs": [],
   "source": [
    "import numpy as np\n",
    "\n",
    "import jax\n",
    "import jax.numpy as jnp\n",
    "from jax import jit, grad, vmap"
   ]
  },
  {
   "cell_type": "markdown",
   "id": "664690cf-3eea-4772-ac4e-ee45260b3f21",
   "metadata": {
    "slideshow": {
     "slide_type": "subslide"
    },
    "tags": []
   },
   "source": [
    "The `gaussian_kernel` function is a jax implementation of the famous gaussian kernel:\n",
    "$$ k(x, y) = e^{-\\frac{\\|x - y\\|^2}{\\sigma^2}}$$\n",
    "\n",
    "A function often used when implementing kernel-based methods, such as [Kernel Regression](https://en.wikipedia.org/wiki/Kernel_regression)"
   ]
  },
  {
   "cell_type": "code",
   "execution_count": 2,
   "id": "8eb17e5b-ad06-4919-b10b-290f6d743463",
   "metadata": {
    "tags": []
   },
   "outputs": [],
   "source": [
    "def gaussian_kernel(x, y):\n",
    "    sigma = 2\n",
    "    z = x - y\n",
    "    return jnp.exp(-jnp.sum(jnp.square(z)) / sigma ** 2)"
   ]
  },
  {
   "cell_type": "code",
   "execution_count": 3,
   "id": "60ef0206-4aef-4b64-b1a0-a168213bcaf9",
   "metadata": {
    "slideshow": {
     "slide_type": "fragment"
    },
    "tags": []
   },
   "outputs": [
    {
     "data": {
      "text/plain": [
       "DeviceArray(0.60653067, dtype=float32)"
      ]
     },
     "execution_count": 3,
     "metadata": {},
     "output_type": "execute_result"
    }
   ],
   "source": [
    "x_input = jnp.ones((2,))  # [0., 0.]\n",
    "y_input = jnp.zeros((2,))  # [1., 1.]\n",
    "retval = gaussian_kernel(x_input, y_input)\n",
    "retval"
   ]
  },
  {
   "cell_type": "markdown",
   "id": "922cde14-db48-4379-8731-82c92fd08a5e",
   "metadata": {
    "slideshow": {
     "slide_type": "subslide"
    },
    "tags": []
   },
   "source": [
    "The gaussian kernel relies on the following jax primitives: `jnp.sum`, `jnp.square`, and `jnp.exp`, which are the jax-analogues of `np.sum`, `np.square` and `np.exp`. Almost all `numpy` primitives are present in `jax.numpy`, including traditional linear algebra operations like `jnp.dot` or `jnp.matmul`.\n",
    "\n",
    "This function satisfies all the constraints enumerated in the introductory paragraph of this section: it takes as input 2 jax arrays, return a scalar (0-th order jax array), and is pure (same input->same output). We can thus apply jax transformations on it!"
   ]
  },
  {
   "cell_type": "markdown",
   "id": "55861338-3dd4-40ef-9586-388d927184ca",
   "metadata": {
    "slideshow": {
     "slide_type": "slide"
    },
    "tags": []
   },
   "source": [
    "### Jax Transformations"
   ]
  },
  {
   "cell_type": "markdown",
   "id": "ade6e9ca-f328-4430-ba90-5b9bfd483b68",
   "metadata": {
    "slideshow": {
     "slide_type": "subslide"
    },
    "tags": []
   },
   "source": [
    "### JIT compilation"
   ]
  },
  {
   "cell_type": "code",
   "execution_count": 4,
   "id": "6d7ac895-e6b3-4bff-b5e9-8306b3470447",
   "metadata": {
    "tags": []
   },
   "outputs": [],
   "source": [
    "# just-in-time compilation\n",
    "jitted_gaussian_kernel = jit(gaussian_kernel)\n",
    "assert gaussian_kernel(x_input, y_input) == gaussian_kernel(x_input, y_input)"
   ]
  },
  {
   "cell_type": "markdown",
   "id": "eb30fc49-3860-4c99-a1a7-3b375b9595a7",
   "metadata": {
    "tags": []
   },
   "source": [
    "The JIT-compiled version of `gaussian_kernel`, `jitted_gaussian_kernel` executes the same end-to-end mathematical operations, makes additional software and harware optimizations to speed up computations."
   ]
  },
  {
   "cell_type": "code",
   "execution_count": 5,
   "id": "97aa17d7-d822-470a-a01a-c2edffefdf0f",
   "metadata": {},
   "outputs": [
    {
     "name": "stdout",
     "output_type": "stream",
     "text": [
      "14.3 µs ± 147 ns per loop (mean ± std. dev. of 7 runs, 100,000 loops each)\n"
     ]
    }
   ],
   "source": [
    "%timeit gaussian_kernel(x_input, y_input).block_until_ready()"
   ]
  },
  {
   "cell_type": "code",
   "execution_count": 6,
   "id": "c2ffc3ea-b12f-417d-89b5-2d8cea507000",
   "metadata": {
    "tags": []
   },
   "outputs": [
    {
     "name": "stdout",
     "output_type": "stream",
     "text": [
      "2.3 µs ± 57.4 ns per loop (mean ± std. dev. of 7 runs, 100,000 loops each)\n"
     ]
    }
   ],
   "source": [
    "%timeit jitted_gaussian_kernel(x_input, y_input).block_until_ready()"
   ]
  },
  {
   "cell_type": "markdown",
   "id": "75d37c83-691e-453e-8f25-eef4b9c6ec36",
   "metadata": {},
   "source": [
    "The speedup here is minimal, due to the fact that the function `gaussian_kernel` is quite simple: there is not much optimizations to perform.\n",
    "We will see other use cases where the speedup yieled by jit-compilation of such functions can become significant."
   ]
  },
  {
   "cell_type": "markdown",
   "id": "1c509077-fe69-4863-889f-34bcf897226f",
   "metadata": {
    "slideshow": {
     "slide_type": "subslide"
    },
    "tags": []
   },
   "source": [
    "### Automatic differentiation\n",
    "\n",
    "Jax can compute derivatives of functions with respect to one or several arguments:"
   ]
  },
  {
   "cell_type": "code",
   "execution_count": 7,
   "id": "e3573043-703f-4c33-885a-07b17ac1a39a",
   "metadata": {},
   "outputs": [
    {
     "data": {
      "text/plain": [
       "DeviceArray([-0.30326533, -0.30326533], dtype=float32)"
      ]
     },
     "execution_count": 7,
     "metadata": {},
     "output_type": "execute_result"
    }
   ],
   "source": [
    "# automatic differentiation\n",
    "d_dx_gaussian_kernel=grad(gaussian_kernel, argnums=0)  # compute the partial derivative of gaussian_kernel w.r.t x\n",
    "d_dx_gaussian_kernel(x_input, y_input)  # returns a 2-d vector"
   ]
  },
  {
   "cell_type": "markdown",
   "id": "b72448b9-d6ae-410f-b4e5-90b7f3274951",
   "metadata": {
    "slideshow": {
     "slide_type": "subslide"
    },
    "tags": []
   },
   "source": [
    "### Automatic vectorization\n",
    "\n",
    "Last but not least, jax can also \"automatically vectorize\" a function. The vectorized function:\n",
    "- takes as input a \"batch\" input tensors, stacked in a new dimension\n",
    "- applies the original function to all  input tensors in the batch"
   ]
  },
  {
   "cell_type": "code",
   "execution_count": 8,
   "id": "b230cf65-3a6f-41a5-8fde-09a93e141706",
   "metadata": {},
   "outputs": [],
   "source": [
    "vmapped_gaussian_kernel = vmap(gaussian_kernel, in_axes=(0, None))"
   ]
  },
  {
   "cell_type": "code",
   "execution_count": 9,
   "id": "9c8e506e-3891-471f-868b-27019f70d364",
   "metadata": {},
   "outputs": [
    {
     "data": {
      "text/plain": [
       "DeviceArray([1.        , 0.60653067], dtype=float32)"
      ]
     },
     "execution_count": 9,
     "metadata": {},
     "output_type": "execute_result"
    }
   ],
   "source": [
    "batch_of_x_inputs = jnp.stack((jnp.zeros((2,)), jnp.ones((2,))))\n",
    "vmapped_gaussian_kernel(batch_of_x_inputs, y_input)"
   ]
  },
  {
   "cell_type": "markdown",
   "id": "1159d42e-59f8-4492-a344-62ff98833536",
   "metadata": {
    "slideshow": {
     "slide_type": "subslide"
    },
    "tags": []
   },
   "source": [
    "### Arbitrary transformation composition\n",
    "\n",
    "Importantly, all these transformations can be composed together (!):"
   ]
  },
  {
   "cell_type": "code",
   "execution_count": 10,
   "id": "231a5524-346c-45c8-af0b-ca82db740d39",
   "metadata": {},
   "outputs": [
    {
     "data": {
      "text/plain": [
       "DeviceArray([[-0.        , -0.        ],\n",
       "             [-0.30326533, -0.30326533]], dtype=float32)"
      ]
     },
     "execution_count": 10,
     "metadata": {},
     "output_type": "execute_result"
    }
   ],
   "source": [
    "jit(vmap(grad(gaussian_kernel), in_axes=(0, None)))(batch_of_x_inputs, y_input)"
   ]
  },
  {
   "cell_type": "markdown",
   "id": "b1c86aad-47cb-4f49-a442-6a57b8dc05ac",
   "metadata": {
    "slideshow": {
     "slide_type": "subslide"
    },
    "tags": []
   },
   "source": [
    "With these basic building blocks in mind, we can start implementing interestiting mathematical and statistical objects. As you will see, using the function transformations provided by \n",
    "jax will often benefit you in one or multiple of the following ways:\n",
    "\n",
    "- reduce code complexity, increase code readability\n",
    "- increase code efficiency"
   ]
  },
  {
   "cell_type": "markdown",
   "id": "41fb74c3-e527-43e0-b044-f9dcd81bf322",
   "metadata": {},
   "source": [
    "### Exercise 1: Computing the (Gaussian Kernel) gram matrix between two datasets"
   ]
  },
  {
   "cell_type": "markdown",
   "id": "3acd4131-e729-47ed-8519-97a88604fe28",
   "metadata": {
    "slideshow": {
     "slide_type": "subslide"
    },
    "tags": []
   },
   "source": [
    "As a first nontrivial composition exercise, try to implement a function that computes the **gram matrix** between two datasets $X = \\{x_i\\}_{i=1}^{n}$ and $X = \\{y_i\\}_{i=1}^{m}$, for a given kernel $k$. This gram matrix is given by:\n",
    "    \n",
    "    \n",
    "$$\n",
    "M = \\begin{vmatrix}\n",
    "k(x_1, y_1) & \\dots & k(x_1, y_m)\\\\\n",
    "\\vdots & \\ddots & \\vdots \\\\\n",
    "k(x_n, y_1) & \\dots & k(x_n, y_m)\\\\\n",
    "\\end{vmatrix}\n",
    "$$\n"
   ]
  },
  {
   "cell_type": "code",
   "execution_count": 11,
   "id": "e53ccace-db4f-415b-ba88-c3a5d0336bd2",
   "metadata": {
    "slideshow": {
     "slide_type": "subslide"
    },
    "tags": []
   },
   "outputs": [],
   "source": [
    "import numpy as np\n",
    "random_state = np.random.RandomState(42)\n",
    "X = random_state.randn(100, 2)\n",
    "Y = random_state.randn(200, 2)"
   ]
  },
  {
   "cell_type": "markdown",
   "id": "7294df9d-f253-442c-be38-260dfc291871",
   "metadata": {
    "slideshow": {
     "slide_type": "subslide"
    },
    "tags": []
   },
   "source": [
    "#### numpy-style implementations"
   ]
  },
  {
   "cell_type": "markdown",
   "id": "fb8ecf36-55a8-4fe0-8e71-7e15ebb2de4b",
   "metadata": {},
   "source": [
    "A naive implementation would consists in two nested for-loops that iterates over X and Y to compute each element of the matrix:"
   ]
  },
  {
   "cell_type": "code",
   "execution_count": 12,
   "id": "ee4d029d-c36b-477c-9cbc-3092e41bfbf7",
   "metadata": {},
   "outputs": [],
   "source": [
    "def compute_gram_matrix_naively(X, Y):\n",
    "    gram_matrix = np.empty((X.shape[0], Y.shape[0]))\n",
    "    for i in range(X.shape[0]):\n",
    "        for j in range(Y.shape[0]):\n",
    "            kij = gaussian_kernel(X[i], Y[j])  # note the interoperability between jax and numpy arrays within **untransformed** jax funtions\n",
    "            gram_matrix[i, j] = kij\n",
    "    return gram_matrix"
   ]
  },
  {
   "cell_type": "code",
   "execution_count": 13,
   "id": "aa26bae6-6835-4e55-8291-7ca3319f20b8",
   "metadata": {},
   "outputs": [],
   "source": [
    "M_naive = compute_gram_matrix_naively(X, Y)"
   ]
  },
  {
   "cell_type": "markdown",
   "id": "09b880d6-021a-465d-9b8b-63d9be6620d1",
   "metadata": {
    "slideshow": {
     "slide_type": "subslide"
    },
    "tags": []
   },
   "source": [
    "A more efficient implementation consists in leveraging numpy's broadcasting abilities to compute the entries of the gram matrix in a vectorized manner.\n",
    "Note that this requires plumbing axis values in reduction operations happening during the kernel computation:"
   ]
  },
  {
   "cell_type": "code",
   "execution_count": 14,
   "id": "437676b6-b054-427c-ba86-6ba0a0babea4",
   "metadata": {},
   "outputs": [],
   "source": [
    "def gaussian_kernel_explicit_reduction_axes(x, y):\n",
    "    sigma = 2\n",
    "    z = x - y\n",
    "    # we add a axis=-1 to prevent numpy from summing over all axes when giving gaussian_kernel a stack of tensors.\n",
    "    # return jnp.exp(-jnp.sum(jnp.square(z)) / sigma ** 2)\n",
    "    return jnp.exp(-jnp.sum(jnp.square(z), axis=-1) / sigma ** 2)"
   ]
  },
  {
   "cell_type": "code",
   "execution_count": 15,
   "id": "bf3a5a6c-f1c4-4ca0-bf00-f96da0f71368",
   "metadata": {},
   "outputs": [],
   "source": [
    "def compute_gram_matrix_bcast_semantics(X, Y):\n",
    "    return gaussian_kernel_explicit_reduction_axes(X[:, None, :], Y[None, :, :])"
   ]
  },
  {
   "cell_type": "code",
   "execution_count": 16,
   "id": "a752c3d7-3f9a-4521-9214-b5aab5fec8c6",
   "metadata": {},
   "outputs": [],
   "source": [
    "M_bcast = compute_gram_matrix_bcast_semantics(X, Y)\n",
    "assert np.allclose(M_naive, M_bcast)"
   ]
  },
  {
   "cell_type": "markdown",
   "id": "bb590f0f-1855-4e88-9deb-d29bafd77c56",
   "metadata": {
    "slideshow": {
     "slide_type": "subslide"
    },
    "tags": []
   },
   "source": [
    "Benchmarking these two functions highlights the dramatically higher efficiency of the latter method:"
   ]
  },
  {
   "cell_type": "code",
   "execution_count": 17,
   "id": "d89c1d1f-3acb-4b26-a24b-3097a4e58192",
   "metadata": {},
   "outputs": [
    {
     "name": "stdout",
     "output_type": "stream",
     "text": [
      "286 ms ± 3.72 ms per loop (mean ± std. dev. of 7 runs, 1 loop each)\n"
     ]
    }
   ],
   "source": [
    "%timeit M_naive = compute_gram_matrix_naively(X, Y)"
   ]
  },
  {
   "cell_type": "code",
   "execution_count": 18,
   "id": "5a2475e2-c16b-4da4-885b-e33618a72b81",
   "metadata": {},
   "outputs": [
    {
     "name": "stdout",
     "output_type": "stream",
     "text": [
      "213 µs ± 5.82 µs per loop (mean ± std. dev. of 7 runs, 1,000 loops each)\n"
     ]
    }
   ],
   "source": [
    "%timeit M_bcast = compute_gram_matrix_bcast_semantics(X, Y)"
   ]
  },
  {
   "cell_type": "markdown",
   "id": "cd9cb735-f547-462b-8f82-692e6685a2d2",
   "metadata": {
    "slideshow": {
     "slide_type": "subslide"
    },
    "tags": []
   },
   "source": [
    "However, the latter method required:\n",
    "\n",
    "- rewriting `gaussian_kernel` to account for the case when it is given batched inputs. What if `gaussian_kernel` is replaced by a much more complex function? What is it is replaced by a third-party function that you are not familiar with?\n",
    "- relying on broadcasting semantics in `compute_gram_matrix_bcast_semantics`: althought in that case, the use of such semantics was quite simple, its use in complex code base can quickly become error-prone."
   ]
  },
  {
   "cell_type": "markdown",
   "id": "cd07bd73-cc67-472c-a68c-47df3f789915",
   "metadata": {
    "slideshow": {
     "slide_type": "subslide"
    },
    "tags": []
   },
   "source": [
    "#### Jax-implementation"
   ]
  },
  {
   "cell_type": "code",
   "execution_count": 1,
   "id": "f700875e-b672-4c39-b67b-e355b01d2864",
   "metadata": {},
   "outputs": [],
   "source": [
    "# Exercise: combine of vmap and gaussian_kernel within compute_gram_matrix_using_vmap to compute the gram matrix between X and Y\n",
    "def compute_gram_matrix_using_vmap(X, Y):\n",
    "    raise NotImplemented"
   ]
  },
  {
   "cell_type": "code",
   "execution_count": 20,
   "id": "a143ddf1-8a5e-4ea0-a519-2cfc777f2587",
   "metadata": {},
   "outputs": [],
   "source": [
    "M_vmap = compute_gram_matrix_using_vmap(X, Y)\n",
    "assert np.allclose(M_vmap, M_bcast)"
   ]
  },
  {
   "cell_type": "code",
   "execution_count": 21,
   "id": "5acaaa09-a7a6-454e-b9e8-0f0912d8c213",
   "metadata": {},
   "outputs": [],
   "source": [
    "jitted_gaussian_kernel = jit(gaussian_kernel)\n",
    "_ = jitted_gaussian_kernel(jnp.ones((2,)), jnp.zeros((2,))).block_until_ready()"
   ]
  },
  {
   "cell_type": "markdown",
   "id": "7a056ab3-6fca-4c36-8c3b-d39d3973d393",
   "metadata": {},
   "source": [
    "### Exercise 2: A jax-implementation of the Kernelized Stein Discrepancy.\n",
    "\n",
    "\n",
    "Further composition of `vmap`, `jit` and `grad` happens when computing the infamous `Stein` kernel, which is used to evaluate whether samples $\\{x_i\\}_{i=1}^{n}$ are distributed according to a test density $q(x) = p(x) / Z$ known up to a normalizing constant Z. Given some given kernel $k$, Writing $s(x) = \\nabla \\log p(x)$, the stein kernel writes:\n",
    "\n",
    "$$\n",
    "k_{\\textrm{stein}}(x, y) = s(x)^\\top s(y)k(x, y) + s(x)^\\top \\nabla_yk(x, y) + \\nabla_x k(x, y)^\\top s(y) + \\textrm{div}_x(∇_yk(x, y))\n",
    "$$\n",
    "\n",
    "which can be used to compute a measure of discrepancy between the samples and the density $p$, called the Kernelized Stein Discrepancy (or KSD):\n",
    "\n",
    "$$\n",
    "\\text{KSD}(p, x) = \\sqrt{ \\frac{1}{N^2} \\sum_{i=1}^n \\sum_{j=1}^n k_{\\textrm{stein}}(x_i, y_j)}\n",
    "$$"
   ]
  },
  {
   "cell_type": "markdown",
   "id": "3516c328-d001-495b-b758-f9372697db83",
   "metadata": {},
   "source": [
    "As an exercise, compute KSD between $p$ and  $X$ and using the gaussian kernel as the base kernel, and $p$ being standard normal distributio\n",
    "We will place ourselves under the null hypothesis, meaning that $X$ will be sampled from $p$."
   ]
  },
  {
   "cell_type": "code",
   "execution_count": 22,
   "id": "1ad2457f-0879-4640-91c2-380aa6028c28",
   "metadata": {},
   "outputs": [],
   "source": [
    "def p(x):\n",
    "    return jnp.exp(-0.5 * jnp.sum(jnp.square(x))) #  unnormalized standard normal density\n",
    "\n",
    "s = ...  # compute the score function"
   ]
  },
  {
   "cell_type": "code",
   "execution_count": 23,
   "id": "72df2649-5067-482c-a116-00001b1cb4f7",
   "metadata": {},
   "outputs": [],
   "source": [
    "# Solution\n",
    "s = grad(lambda x: jnp.log(p(x)))"
   ]
  },
  {
   "cell_type": "code",
   "execution_count": 24,
   "id": "21ffa12f-8032-45c1-98ec-87cc329cf19b",
   "metadata": {},
   "outputs": [],
   "source": [
    "# You will need the jacobian function transformation of jax, which computes the jacobian of a vector-valued function\n",
    "from jax import jacobian"
   ]
  },
  {
   "cell_type": "code",
   "execution_count": 2,
   "id": "0760266f-9f58-4f21-8299-eb71f19ec634",
   "metadata": {},
   "outputs": [],
   "source": [
    "def stein_kernel(x, y):\n",
    "    k = gaussian_kernel\n",
    "    term_1 = jnp.dot(s(x), s(y)) * k(x, y)\n",
    "    term_2 = ...\n",
    "    term_3 = ...\n",
    "    term_4 = ...\n",
    "    \n",
    "    return term_1 + term_2 + term_3 + term_4"
   ]
  },
  {
   "cell_type": "code",
   "execution_count": 26,
   "id": "c29f9790-7b8b-4c6e-a490-8d3ecfecd25b",
   "metadata": {},
   "outputs": [],
   "source": [
    "def compute_gram_matrix_stein_kernel(X):\n",
    "    return vmap(vmap(stein_kernel, in_axes=(None, 0)), in_axes=(0, None))(X, X)"
   ]
  },
  {
   "cell_type": "code",
   "execution_count": 3,
   "id": "0e3b506e-754c-4e7b-98d4-3202e1d46567",
   "metadata": {},
   "outputs": [],
   "source": [
    "def ksd(X):\n",
    "    return NotImplemented"
   ]
  },
  {
   "cell_type": "code",
   "execution_count": 28,
   "id": "b732e0ce-12fd-47c3-bba1-6ef2616a3d21",
   "metadata": {},
   "outputs": [],
   "source": [
    "from jax import random\n",
    "key = random.PRNGKey(0)\n",
    "X = random.normal(key, (5000,2))"
   ]
  },
  {
   "cell_type": "markdown",
   "id": "ce3fd341-7705-4570-9ca0-2f27607630ae",
   "metadata": {},
   "source": [
    "Under the null hypothesis KSD(X, p) should tend to 0 at a $1/\\sqrt{N}$ rate. Given that X is actually sampled from a unit gaussian, we should recover this regime if we implemented\n",
    "the KSD properly. The following cells will plot the relationship between $1/\\sqrt{N}$ and $\\text{KSD}(X, p)$ for different sample size $N$ for X."
   ]
  },
  {
   "cell_type": "code",
   "execution_count": 62,
   "id": "73272e70-12d4-46f4-a460-6d4dab6fe0e4",
   "metadata": {},
   "outputs": [],
   "source": [
    "sample_sizes = (50, 100, 200, 300, 500, 1000, 2000, 5000)\n",
    "random_state = np.random.RandomState(40)\n",
    "\n",
    "ksd_vals = []\n",
    "for N in sample_sizes:\n",
    "    ksd_vals_this_iter = []\n",
    "    for rs in range(5):\n",
    "        X = random_state.randn(N, 2)\n",
    "        ksd_vals_this_iter.append(ksd(jnp.array(X)))\n",
    "    ksd_vals.append(jnp.mean(jnp.array(ksd_vals_this_iter)))"
   ]
  },
  {
   "cell_type": "code",
   "execution_count": 63,
   "id": "6b46607b-7aae-4690-a619-76215260b7a6",
   "metadata": {},
   "outputs": [
    {
     "data": {
      "text/plain": [
       "<matplotlib.legend.Legend at 0x1680f8820>"
      ]
     },
     "execution_count": 63,
     "metadata": {},
     "output_type": "execute_result"
    },
    {
     "data": {
      "image/png": "[encoded data removed]",
      "text/plain": [
       "<Figure size 640x480 with 1 Axes>"
      ]
     },
     "metadata": {},
     "output_type": "display_data"
    }
   ],
   "source": [
    "import matplotlib.pyplot as plt\n",
    "plt.plot(1 / jnp.sqrt(jnp.array(sample_sizes)), ksd_vals, label=\"KSD\")\n",
    "\n",
    "coef = np.polyfit(1 / jnp.sqrt(jnp.array(sample_sizes)),ksd_vals,1)\n",
    "poly1d_fn = np.poly1d(coef) \n",
    "# poly1d_fn is now a function which takes in x and returns an estimate for y\n",
    "\n",
    "plt.plot(1 / jnp.sqrt(jnp.array(sample_sizes)), poly1d_fn(jnp.array(1 / jnp.sqrt(jnp.array(sample_sizes)))), '--k', label=\"linear fit\")\n",
    "plt.xlabel(\"1/√N\")\n",
    "plt.ylabel(\"KSD(X, p)\")\n",
    "plt.legend()"
   ]
  },
  {
   "cell_type": "markdown",
   "id": "1e11843b-d02a-4a33-b822-c0d7369ee2bb",
   "metadata": {},
   "source": [
    "## Randomness in JAX"
   ]
  },
  {
   "cell_type": "markdown",
   "id": "65142534-1c18-4e40-af17-d611499a1da3",
   "metadata": {},
   "source": [
    "### Description "
   ]
  },
  {
   "cell_type": "markdown",
   "id": "9a9a720f-6f12-48ff-aeeb-c3c2c9a9ccbb",
   "metadata": {},
   "source": [
    "- So far, we have conveniently evaded the notion of randomness in Jax by delegating draws from probability distributions to numpy.\n",
    "- Random variables can be drawn from jax. However, the handling of randomness is an example of the functionalization constraint that jax imposes.\n",
    "- his constrain prevents numpy-like random variables drawing, since drawing a random variable in numpy incurs a side effect by modifying numpy's random state:"
   ]
  },
  {
   "cell_type": "code",
   "execution_count": 67,
   "id": "93f314aa-5ec6-4f67-9e70-e1215e7ff5d6",
   "metadata": {},
   "outputs": [],
   "source": [
    "def draw_one_random_variable():\n",
    "    return np.random.randn()"
   ]
  },
  {
   "cell_type": "code",
   "execution_count": 68,
   "id": "36bdb6a9-e92c-474d-b846-8f97d462d1fa",
   "metadata": {},
   "outputs": [
    {
     "name": "stdout",
     "output_type": "stream",
     "text": [
      "-1.6218898697659059 0.45215438948829273\n"
     ]
    }
   ],
   "source": [
    "print(draw_one_random_variable(), draw_one_random_variable())  # two different outputs for the same input (Φ): "
   ]
  },
  {
   "cell_type": "markdown",
   "id": "8c2781b0-d006-4f43-b51f-682286dd4dac",
   "metadata": {},
   "source": [
    "`RandomState` Based randomness generation is also forbidden in functional programming frameworks, since it modifies its input:"
   ]
  },
  {
   "cell_type": "code",
   "execution_count": 70,
   "id": "90a08a0c-b2c7-44f5-a9a3-70e4dbe72bbe",
   "metadata": {},
   "outputs": [],
   "source": [
    "def draw_one_random_variable_RandomState(rs):\n",
    "    return rs.randn()"
   ]
  },
  {
   "cell_type": "code",
   "execution_count": 85,
   "id": "a1655007-e9ce-40ed-a57e-a49c2de6c981",
   "metadata": {},
   "outputs": [
    {
     "data": {
      "text/plain": [
       "False"
      ]
     },
     "execution_count": 85,
     "metadata": {},
     "output_type": "execute_result"
    }
   ],
   "source": [
    "rs = np.random.RandomState(42)\n",
    "orig_state = rs.get_state()\n",
    "\n",
    "draw_one_random_variable_RandomState(rs)\n",
    "np.allclose(rs.get_state()[1], orig_state[1])"
   ]
  },
  {
   "cell_type": "markdown",
   "id": "bcb152e1-01a9-4689-9bcd-64eef2d61a6c",
   "metadata": {},
   "source": [
    "Instead, `jax` generates random variables in a functionally pure manner by:\n",
    "- requiring a one-off `PRNGKey`, a `RandomState` equivalent characterizing some pseudorandomness state.\n",
    "- not alterating this key when generating a random variable\n",
    "\n"
   ]
  },
  {
   "cell_type": "markdown",
   "id": "c7033363-a038-487e-bf3d-b9775c409a17",
   "metadata": {},
   "source": [
    "- The consequence of this pure randomness generation is that new keys must be repeteadly generated to \"create\" new randomness.\n",
    "- Generating new keys from old ones is known in the computational pseudorandomness literrature as splitting, for which a utility function is provided in jax."
   ]
  },
  {
   "cell_type": "code",
   "execution_count": 86,
   "id": "09d05b35-7018-4530-9b44-e66f31e08f50",
   "metadata": {},
   "outputs": [],
   "source": [
    "#                                           key \n",
    "#                                           | \n",
    "#                                           |  random.split(key)\n",
    "#                                           | \n",
    "#                             ---------------------------\n",
    "#                             |                          |\n",
    "#                             |                          |\n",
    "#                             |                          |\n",
    "#                           subkey1                    subkey2\n",
    "#                              | \n",
    "#     random.split(subkey1)    |                         |  random.split(subkey2)\n",
    "#                              |                         | \n",
    "#                        --------------            --------------\n",
    "#                        |            |            |            |\n",
    "#                        |            |            |            |\n",
    "#                        |            |            |            |\n",
    "#                       subkey1.1   subkey1.2   subkey2.1      subkey2.2\n",
    "#"
   ]
  },
  {
   "cell_type": "code",
   "execution_count": 87,
   "id": "bb7037e4-253e-47e2-b794-d4b6cb7b96ab",
   "metadata": {},
   "outputs": [],
   "source": [
    "from jax import random\n",
    "key = random.PRNGKey(42)\n",
    "\n",
    "key, subkey = random.split(key)\n",
    "# provide a one-shot \"RandomState\"-like subkey to generate a random variable.\n",
    "x1 = random.normal(subkey)\n",
    "\n",
    "# From now on, subkey cannot be used since it was used to generate randomness in random.normal\n",
    "x1_same = random.normal(subkey)\n",
    "assert x1_same == x1\n",
    "\n",
    "# You're left with an \"untouched\" new key that can be split to generate new randomness\n",
    "key, subkey = random.split(subkey)\n",
    "\n",
    "x2 = random.normal(subkey)\n",
    "assert x2 != x1"
   ]
  },
  {
   "cell_type": "markdown",
   "id": "42a1af8c-eec9-4e90-8a78-37651b0b6600",
   "metadata": {},
   "source": [
    "### Exercise 3: re-plot the KSD values obtained from your previous exercise, but by generating random jax arrays natively this time!\n"
   ]
  },
  {
   "cell_type": "code",
   "execution_count": 90,
   "id": "61430432-a145-4e2f-a6ab-301c13f4ddf5",
   "metadata": {},
   "outputs": [],
   "source": [
    "from jax import random\n",
    "\n",
    "sample_sizes = (50, 100, 200, 300, 500, 1000, 2000, 5000)\n",
    "\n",
    "key = random.PRNGKey(0)\n",
    "\n",
    "ksd_vals = []\n",
    "for N in sample_sizes:\n",
    "    ksd_vals_this_iter = []\n",
    "    for rs in range(5):\n",
    "        # 1. generate jax randomness, 2. generate array of appropriate size\n",
    "        ksd_vals_this_iter.append(jit(ksd)(jnp.array(X)))\n",
    "    ksd_vals.append(jnp.mean(jnp.array(ksd_vals_this_iter)))"
   ]
  },
  {
   "cell_type": "code",
   "execution_count": null,
   "id": "94d5ec3d-aab8-446b-a63b-58e21972779b",
   "metadata": {},
   "outputs": [],
   "source": [
    "import matplotlib.pyplot as plt\n",
    "plt.plot(1 / jnp.sqrt(jnp.array(sample_sizes)), ksd_vals, label=\"KSD\")\n",
    "\n",
    "coef = np.polyfit(1 / jnp.sqrt(jnp.array(sample_sizes)),ksd_vals,1)\n",
    "poly1d_fn = np.poly1d(coef) \n",
    "# poly1d_fn is now a function which takes in x and returns an estimate for y\n",
    "\n",
    "plt.plot(1 / jnp.sqrt(jnp.array(sample_sizes)), poly1d_fn(jnp.array(1 / jnp.sqrt(jnp.array(sample_sizes)))), '--k', label=\"linear fit\")\n",
    "plt.xlabel(\"1/√N\")\n",
    "plt.ylabel(\"KSD(X, p)\")\n",
    "plt.legend()"
   ]
  },
  {
   "cell_type": "markdown",
   "id": "8aafd0bb-3c90-423a-b969-4ace884b7acf",
   "metadata": {},
   "source": [
    "## Control-Flows in JAX\n",
    "\n",
    "Understanding control flows in `jax` requires some additional digging of jax internals:"
   ]
  },
  {
   "cell_type": "markdown",
   "id": "4534d45e-92f9-472d-a93f-8790dd79c717",
   "metadata": {},
   "source": [
    "### A primer on jax internals: static shapes, functional purity"
   ]
  },
  {
   "cell_type": "markdown",
   "id": "ad38c9fe-1f83-41de-be22-945cddfc1dda",
   "metadata": {},
   "source": [
    "\n",
    "- Jax works by transforming a functionally pure function into a directed acyclic computation graph\n",
    "- The interpreted nature of python makes the creation of this graph a challenge: such computation graphs are typically created ahead of time, during the compilation process when working with compiled languages.\n",
    "- In intrepreted languages, the structure of the computational graph will be \"discovered\" at runtime, when executing the said program."
   ]
  },
  {
   "cell_type": "markdown",
   "id": "3551379f-4939-4459-b35c-cec5e31c201f",
   "metadata": {},
   "source": [
    "- To build this graph, jax relies on the amazing polymorphism capabilities of Python by substituting input to jax functions with special jax constructs called \"tracers\".\n",
    "- These tracers progressively record the set of instructions applied on them, gathering the necessary informations to create a computational graph, called a \"Jax Intermediate Representation\", or JAX IR.\n",
    "- This graph can then be traversed to perform computation graph transformations by defining appropritate transformation translation rules, leading to `vmap`, `jit`, `grad` etc.\n",
    "\n",
    "\n",
    "Jax IRs can be described using a 1st order ANF called a `jaxpr`. Example is given below (credits to the Jax Team for the slides)"
   ]
  },
  {
   "cell_type": "markdown",
   "id": "e0700bcf-6928-4298-b329-a501c130b159",
   "metadata": {},
   "source": [
    "![title](./fun_to_jax_ir.png)"
   ]
  },
  {
   "cell_type": "markdown",
   "id": "4f26f401-37e9-4c90-8ddb-4016b07d7507",
   "metadata": {},
   "source": [
    "### Constructing jax-friendly control flows "
   ]
  },
  {
   "cell_type": "markdown",
   "id": "abe45ea2-fc0a-4171-97d9-f4a371fcab71",
   "metadata": {},
   "source": [
    "Additionally, as of now, `jaxpr`s are specialized to specific input and output shapes: thus, these shapes are required to be static, and cannot change depending on the value of the input. Thus, the following function:"
   ]
  },
  {
   "cell_type": "code",
   "execution_count": 97,
   "id": "03e7e1b7-f98b-4a58-a283-b8c6a2b67b32",
   "metadata": {},
   "outputs": [],
   "source": [
    "def f(x):\n",
    "    if x > 0:\n",
    "        return jnp.ones((2,))\n",
    "    else:\n",
    "        return jnp.ones((3,))"
   ]
  },
  {
   "cell_type": "markdown",
   "id": "649b55df-9635-413c-836e-ebb561ee0067",
   "metadata": {},
   "source": [
    "will not yield a valid `jaxpr`, as the shape of the output depends on dynamic values (namely the values on the input).\n",
    "Note however that because shapes are treated as static this:"
   ]
  },
  {
   "cell_type": "code",
   "execution_count": null,
   "id": "e39493c8-5931-4508-9718-50afaf57d5f3",
   "metadata": {},
   "outputs": [],
   "source": [
    "def f(x):\n",
    "    if x.shape[0] == 2:\n",
    "        return jnp.ones((2,))\n",
    "    elif x.shape[0] == 3:\n",
    "        return jnp.ones((3,))\n",
    "    else:\n",
    "        raise ValueError"
   ]
  },
  {
   "cell_type": "markdown",
   "id": "4ad67505-d14e-46c4-8ad6-5124d3a4e28b",
   "metadata": {},
   "source": [
    "will yield a valid `jaxpr`, and can thus be subject to transformations.\n"
   ]
  },
  {
   "cell_type": "markdown",
   "id": "9488908a-ba58-49bf-a932-16fc49c6c7d7",
   "metadata": {},
   "source": [
    "#### Jax Conditionals\n",
    "\n",
    "Note however, that even a modified version of the first function that would return outputs with identical shapes on both branches:"
   ]
  },
  {
   "cell_type": "code",
   "execution_count": 99,
   "id": "a259c020-0222-499b-9e15-7dbe8c4ffc73",
   "metadata": {},
   "outputs": [],
   "source": [
    "def f(x):\n",
    "    if x > 0:\n",
    "        return jnp.ones((2,))\n",
    "    else:\n",
    "        return jnp.zeros((2,))"
   ]
  },
  {
   "cell_type": "markdown",
   "id": "4973897c-0388-49e9-8ea0-bb89683dad5d",
   "metadata": {},
   "source": [
    "is fundamentally incompatible with a tracing-based mechanism: within a single function call, a tracer will visit only one branch,\n",
    "leading to an incomplete construction of the funciton's computational graph.\n",
    "\n",
    "To solve this problem, jax exposes special control-flow primitives to be used in-lieu of Python control flows. Here is a jax-compatible rewrite of `f`,\n",
    "using `jax.lax.cond`, the native jax if-statement primitive:"
   ]
  },
  {
   "cell_type": "code",
   "execution_count": 57,
   "id": "0678e724-7cc2-4bdd-ac0e-5b230b0b7d15",
   "metadata": {},
   "outputs": [],
   "source": [
    "import jax.lax\n",
    "\n",
    "def f(x):\n",
    "    return jax.lax.cond(x > 0, lambda: jnp.ones((2,)), lambda: jnp.zeros((2,)))"
   ]
  },
  {
   "cell_type": "code",
   "execution_count": 63,
   "id": "23fde93a-338d-45c6-930b-106b4834c171",
   "metadata": {},
   "outputs": [
    {
     "name": "stdout",
     "output_type": "stream",
     "text": [
      "f(-1.)=DeviceArray([0., 0.], dtype=float32)\n",
      "f(2.)=DeviceArray([1., 1.], dtype=float32)\n"
     ]
    }
   ],
   "source": [
    "print(f\"{f(-1.)=}\")\n",
    "print(f\"{f(2.)=}\")"
   ]
  },
  {
   "cell_type": "markdown",
   "id": "db9f0aed-2a14-4da5-9b1e-3fd5d4a76bc3",
   "metadata": {},
   "source": [
    "#### Jax for-loops"
   ]
  },
  {
   "cell_type": "markdown",
   "id": "8aada819-eabe-4c3d-8f26-ef12fcc6048e",
   "metadata": {},
   "source": [
    "for `for-loop` primitives, something different is at stake. Indeed, consider the following, (jax-valid) function"
   ]
  },
  {
   "cell_type": "code",
   "execution_count": 71,
   "id": "8ca4099f-802d-4830-8e2a-90e72f5adf52",
   "metadata": {},
   "outputs": [],
   "source": [
    "def f(x):\n",
    "    for i in range(100):\n",
    "        x = x+1\n",
    "    return x"
   ]
  },
  {
   "cell_type": "markdown",
   "id": "dd13ca3b-7119-4268-b8c5-727f90815b19",
   "metadata": {},
   "source": [
    "Unlike for the if-statement case, a jax-tracer will completely visit `f`'s computational graph. However, the tracer will not be aware of the loop-structure:\n",
    "\n",
    "- Looking at the resulting computational graph, the loop will appear \"unrolled\", e.g. each iteration yielding it's independent sequence of operations.\n",
    "- Statically unrolling python for-loops can become costly when the number of iterations increases, increasing the compilation time."
   ]
  },
  {
   "cell_type": "markdown",
   "id": "cdd8878b-8bc5-4411-9391-954ccf784a74",
   "metadata": {},
   "source": [
    "- As you may have figured it, jax exposes a for-loop special primitive, that lowers the entire loop to a single HLO For node.\n",
    "- Using `jax.lax.cond` the user tells much more about the structure of the for loop than using a dynamic Pythonic for loop.\n",
    "- In particular, all outputs of `body_fun` must keep the same shape across iterations"
   ]
  },
  {
   "cell_type": "code",
   "execution_count": 72,
   "id": "72a2b700-4cdc-428b-91b1-ac3bdb4063fb",
   "metadata": {},
   "outputs": [],
   "source": [
    "import jax.lax\n",
    "\n",
    "def f_fori_loop(x):\n",
    "    def body_fun(i, x):\n",
    "        return x+1\n",
    "    return jax.lax.fori_loop(0, 100, body_fun, x)"
   ]
  },
  {
   "cell_type": "code",
   "execution_count": 73,
   "id": "984c76be-96c0-42c7-838f-4e0478f59c93",
   "metadata": {},
   "outputs": [],
   "source": [
    "assert f(1) == f_fori_loop(1)"
   ]
  },
  {
   "cell_type": "markdown",
   "id": "16e2ce1a-3534-4f12-9db4-7a4991f9a7d8",
   "metadata": {},
   "source": [
    "Note that this `fori_loop` does not capture intermediates iterates, but only the final iterate. Instead, use `jax.lax.scan` to capture all intermediate iterates."
   ]
  },
  {
   "cell_type": "markdown",
   "id": "cda11e2e-3f8c-4de4-a25d-a5c4d76a0a2f",
   "metadata": {},
   "source": [
    "### Exercise 4: implementing a Monte-Carlo Markov Chain Algorithm\n",
    "\n",
    "\n",
    "- A Monte-Carlo Markov Chain algorithm is an algorithm that can be used to approximately sample from an unnormalized probabilty distribution p.\n",
    "- MCMC algorithm srepeateadly generates iterates $x_i$ by drawing them from a **Markov Kernel** $k(x_{i-1}, \\cdot)$, a distributution parametrized by $x_{i-1}$ and which admits $p$ as an invariant distribution:\n",
    "\n",
    "$$\n",
    "\\int k(x, y) p(x) = p(y)\n",
    "$$\n",
    "\n",
    "A famous family of kernels are Metropolis Hasting kernels, which, given some input $x$ (typically, $x_{i-1}$ during a loop), are parametrized by a proposal distribution $q(\\cdot | x)$ and are described by the following probabilistic program:\n",
    "\n",
    "\n",
    "**How to sample from $k(\\cdot, x)$**\n",
    "\n",
    "- generate $x' \\sim q(\\cdot|x)$\n",
    "-  $\\alpha = \\frac{p(x')q(x | x')}{p(x)q(x'|x)}$\n",
    "-  with prob. $\\min(\\alpha, 1)$, return x'. Else, return x."
   ]
  },
  {
   "cell_type": "markdown",
   "id": "6f6f72cc-b615-43d2-88f9-9ae146c0283a",
   "metadata": {},
   "source": [
    "The goal of this exercise is to write an efficient implementation of a MCMC algorithm with for some target density $p(x)$ given below, random walk MH kernel,  which is a MH kernel characetrized by the proposal distribution $q(x, y) = \\mathcal N(x-y, \\sigma^2 I_2)$. \n",
    "\n",
    "Importantly, this proposal is symmetric $q(x|x')=q(x'|x)$. Thus, the computation of $\\alpha$ reduces to $p(x')/p(x)$.\n",
    "  \n",
    "\n",
    "To complete this algorithm you will have to:\n",
    "- implement the random walk kernel\n",
    "- create the for-loop representing the MCMC algorith, using a jax.lax.scan primitive"
   ]
  },
  {
   "cell_type": "code",
   "execution_count": 117,
   "id": "f5bf9063-affe-4c2c-8e80-09949d87e2d7",
   "metadata": {},
   "outputs": [],
   "source": [
    "def p(x):\n",
    "    \n",
    "    # the unnormalized density of interest\n",
    "    sigma = 1.\n",
    "    return jnp.exp(-0.5/sigma**2 * jnp.sum(jnp.square(x - jnp.ones((2,)))))"
   ]
  },
  {
   "cell_type": "code",
   "execution_count": 119,
   "id": "6d878b9d-068e-46d9-a74b-cbff7c7c19df",
   "metadata": {},
   "outputs": [],
   "source": [
    "# the proposal distribution q(\\cdot | x)\n",
    "def q(x, y):\n",
    "    return jnp.exp(-0.5/sigma**2 * jnp.sum(jnp.square(x - y)))\n",
    "\n",
    "def random_walk_kernel(x, key, sigma=1):\n",
    "    # 1. generate x' from q(x, \\cdot). Hint: use a shifted and scaled sample from random.normal.\n",
    "    # 2. compute \\alpha\n",
    "    # 3. return x or x'.\n",
    "    raise NotImplemented"
   ]
  },
  {
   "cell_type": "markdown",
   "id": "f75e6c74-b459-46a2-9310-3378b3151c40",
   "metadata": {},
   "source": [
    " Careful! there should not be native if statements! try running a jitted version of `random_walk_kernel`\n",
    " \n"
   ]
  },
  {
   "cell_type": "code",
   "execution_count": null,
   "id": "f51cba4e-f50b-4853-ae61-b6ac4c6e2904",
   "metadata": {},
   "outputs": [],
   "source": [
    "x0 = jnp.zeros((2,))\n",
    "key = random.PRNGKey(0)\n",
    "\n",
    "x1 = random_walk_kernel(x0, key)\n",
    "x1_jitted = jit(random_walk_kernel)(x0, key)\n",
    "\n",
    "assert jnp.allclose(x1, x1_jitted)"
   ]
  },
  {
   "cell_type": "markdown",
   "id": "43495098-33bd-4b44-bd97-a21042aafb64",
   "metadata": {},
   "source": [
    "For the next step, implement a full MCMC algorithm by iteratively sampling from this kernel.\n",
    "Below is a for-loop equivalent:"
   ]
  },
  {
   "cell_type": "code",
   "execution_count": 126,
   "id": "945d3e58-266e-4f9d-acfd-bd2b89c27071",
   "metadata": {},
   "outputs": [],
   "source": [
    "def rw_mcmc(num_steps, x0, key):\n",
    "    x = x0\n",
    "    iterates = [x]\n",
    "    for i in range(steps):\n",
    "        key, subkey = random.split(key)\n",
    "        x = random_walk_kernel(x, subkey)\n",
    "        iterates.append(x)\n",
    "    return iterates"
   ]
  },
  {
   "cell_type": "markdown",
   "id": "009f8a91-7032-412f-a75d-b38ab7a684ce",
   "metadata": {},
   "source": [
    "Fill the following code:"
   ]
  },
  {
   "cell_type": "code",
   "execution_count": null,
   "id": "4c814c93-cd2e-411c-9f99-ffecfd071d2b",
   "metadata": {},
   "outputs": [],
   "source": [
    "def rw_mcmc_jax_control_flow(num_steps, x0, key):\n",
    "    x = x0\n",
    "    iterates = [x]\n",
    "    \n",
    "    def step_fn(carry, input_):\n",
    "        output = ...  # do a MH kernel step\n",
    "        return output, output\n",
    "    \n",
    "    # call jax.lax.scan using step_fn as its step function.\n",
    "    _, iterates  = jax.lax.scan(...)\n",
    "    return iterates"
   ]
  },
  {
   "cell_type": "markdown",
   "id": "3f963ff5-81b2-47d1-9144-90492a3d5560",
   "metadata": {},
   "source": [
    "You will notice how much faster the version of  `rw_mcmc` using jax.lax control flow is as opposed to its Python counterpart!"
   ]
  },
  {
   "cell_type": "markdown",
   "id": "0d96037f-e74f-402c-84d1-465a485315ac",
   "metadata": {},
   "source": [
    "## Extending the flexibility of jax functions with PyTrees\n",
    "\n",
    "\n",
    "### A Primer on PyTrees \n",
    "\n",
    "The aforementioned fact that valid `jax` functions could only take `jax` arrays as inputs and return `jax` arrays is a slight reduction. Actually, jax functions can take as inputs arbitrary nested collections  JAX arrays. These nested collections are called PyTrees.\n",
    "\n",
    "- Collections that defines valid PyTrees by defaults are tuples, namedtuple, lists, dictionaries. PyTrees are characetrized by the structure or the nested collections (where the cardinality of each collection is a static attribute of the PyTree structure, i.e cannot change across instances of this pytree structure). Such collections have a tree structure (hence the name), and the leaves are the array.\n",
    "- The structure of the PyTree is called a PyTreeDef"
   ]
  },
  {
   "cell_type": "code",
   "execution_count": 46,
   "id": "38782b7d-6956-4905-8f24-014f73681128",
   "metadata": {},
   "outputs": [],
   "source": [
    "# Example\n",
    "some_pytree = {'a': jnp.ones((2,)), 'b': jnp.ones((2,))}"
   ]
  },
  {
   "cell_type": "markdown",
   "id": "6becb5a7-3abc-4dc0-9335-ec7aa2b72f0c",
   "metadata": {},
   "source": [
    "The principles applying to jax arrays mostly generalize to PyTrees. For instances, shapes must be known statically. This function for example is invalid jax code"
   ]
  },
  {
   "cell_type": "code",
   "execution_count": 47,
   "id": "c8ca3b35-d4cd-4918-9df4-76d2b93b60bd",
   "metadata": {},
   "outputs": [],
   "source": [
    "def f():\n",
    "    return jax.lax.cond(True, lambda: [jnp.ones((2,)), jnp.ones((3,))], lambda: [jnp.ones((3,)), jnp.ones((3,))])"
   ]
  },
  {
   "cell_type": "markdown",
   "id": "0d64ce41-986e-4e50-adb8-57ca62423d59",
   "metadata": {},
   "source": [
    "Pytrees can be differentiated of vmapped against:"
   ]
  },
  {
   "cell_type": "code",
   "execution_count": 48,
   "id": "23648821-a677-4c8c-8e48-f37c1da6f75e",
   "metadata": {},
   "outputs": [],
   "source": [
    "def f(tree):\n",
    "    return 2 * tree['a']['c'] * tree['b']"
   ]
  },
  {
   "cell_type": "code",
   "execution_count": 49,
   "id": "bccf93c7-9fc3-4b4b-a449-d12461f60e04",
   "metadata": {},
   "outputs": [
    {
     "data": {
      "text/plain": [
       "{'a': {'c': DeviceArray(-4., dtype=float32, weak_type=True)},\n",
       " 'b': DeviceArray(20., dtype=float32, weak_type=True)}"
      ]
     },
     "execution_count": 49,
     "metadata": {},
     "output_type": "execute_result"
    }
   ],
   "source": [
    "grad_f = grad(f)\n",
    "grad_f({'a': {'c': 10.}, 'b': -2.})"
   ]
  },
  {
   "cell_type": "code",
   "execution_count": 50,
   "id": "bcc247d1-6d55-4769-b83d-153fa642c36f",
   "metadata": {},
   "outputs": [
    {
     "data": {
      "text/plain": [
       "DeviceArray([  -0.,  -40.,  -80., -120., -160., -200., -240., -280.,\n",
       "             -320., -360.], dtype=float32)"
      ]
     },
     "execution_count": 50,
     "metadata": {},
     "output_type": "execute_result"
    }
   ],
   "source": [
    "vmapped_f = vmap(f)\n",
    "vmapped_f({'a': {'c': 10. * jnp.ones((10,))}, 'b': -2. * jnp.arange(10)})"
   ]
  },
  {
   "cell_type": "markdown",
   "id": "da0e5217-c07d-4dc0-8f4d-b7d494b9680e",
   "metadata": {},
   "source": [
    "All such operations can be done only on part of the PyTree structure of each argument:"
   ]
  },
  {
   "cell_type": "code",
   "execution_count": 55,
   "id": "0d9446ba-ba53-4832-b7a8-165221182cac",
   "metadata": {},
   "outputs": [
    {
     "data": {
      "text/plain": [
       "DeviceArray([-40., -40., -40., -40., -40., -40., -40., -40., -40., -40.],            dtype=float32)"
      ]
     },
     "execution_count": 55,
     "metadata": {},
     "output_type": "execute_result"
    }
   ],
   "source": [
    "vmapped_f_partial = vmap(f, in_axes=({'a': {'c': 0}, 'b': None}, ))  # a bit error-prone: this is currently a jax usability weak spot.\n",
    "vmapped_f_partial({'a': {'c': 10. * jnp.ones((10,))}, 'b': -2.})"
   ]
  },
  {
   "cell_type": "markdown",
   "id": "927a6a98-60d7-4ca1-b786-991a66f2b18e",
   "metadata": {},
   "source": [
    " pytrees are useful to represent the internal state (e.g. the weights, the batch norm statistics, etc) of a neural network, as often, neural network have a nested/hierechical/modular structure."
   ]
  },
  {
   "cell_type": "markdown",
   "id": "3aab100e-83a9-4fc3-ac47-6b7126ed7ce0",
   "metadata": {},
   "source": [
    "### Convenients PyTrees\n",
    "\n",
    "Two important remarks on PyTree are in order:\n",
    "\n",
    "- NamedTuple are PyTree. Using namedtuples often prevent extenive kwargs plumbing in functions, by gathering all \"configuration\" arguments (as opposed to actual variables) to a function within a `Config` NamedTuple Umbrella (note that all attributes of the named tuple must be tracable!)."
   ]
  },
  {
   "cell_type": "code",
   "execution_count": 38,
   "id": "8036103b-2eb7-4c82-835b-287849917fde",
   "metadata": {},
   "outputs": [],
   "source": [
    "from typing import NamedTuple\n",
    "class MyAlgorithmConfig(NamedTuple):\n",
    "    learning_rate: int = 0.01\n",
    "    regularization_val: int = 0.001\n",
    "    # careful! if the training loop was implememted as a jax.lax.scan loop,\n",
    "    # num_iter will have to be static, as it impacts the output shape of the scan loop\n",
    "    # num_iter = 100\n",
    "    ..."
   ]
  },
  {
   "cell_type": "code",
   "execution_count": 4,
   "id": "110ec796-b937-4f85-908a-888ae62e0ae8",
   "metadata": {},
   "outputs": [],
   "source": [
    "def train_my_network(X, y, my_algorithm_config: MyAlgorithmConfig,\n",
    "                     # num_iter = 100\n",
    "                    ):\n",
    "    ...\n",
    "    \n",
    "# instead of\n",
    "def train_my_network(X, y, learning_rate, regularization_val, \n",
    "                     # num_iter = 100\n",
    "                    ):\n",
    "    ..."
   ]
  },
  {
   "cell_type": "markdown",
   "id": "a1d21c30-1722-47e8-afa9-b703799e0d1f",
   "metadata": {},
   "source": [
    "- Additional User-Defined Collection Types can be registered as PyTreeNodes, using the jax.tree_util.register_pytree_node_class\n",
    "- However, `flax`, a jax-powered neural network library, exposes a `struct.PyTreeNode` helper allowing the extremly useful operation:\n",
    "  - automatically register dataclass-like classes...\n",
    "  - ...while manually specifying which arguments are static and which are traceable! Thanks to this, `num_iter` in the previous example can be safely ignored:\n",
    "  "
   ]
  },
  {
   "cell_type": "code",
   "execution_count": 3,
   "id": "fda057f5-afaf-4a2b-b737-cc3b9f8095c2",
   "metadata": {},
   "outputs": [],
   "source": [
    "from flax import struct\n",
    "\n",
    "class MyAlgorithmConfig(struct.PyTreeNode):\n",
    "    learning_rate: int = 0.01\n",
    "    regularization_val: int = 0.001\n",
    "    # num_iter can be marked as static!\n",
    "    num_iter: int = struct.field(pytree_node=False, default=100)"
   ]
  },
  {
   "cell_type": "markdown",
   "id": "6d550e43-baa4-4e97-9eb5-e17c3c943ef3",
   "metadata": {},
   "source": [
    "## A final End-to-end example. Mixture of Gaussians:"
   ]
  },
  {
   "cell_type": "markdown",
   "id": "8d682d61-4542-427b-b6e3-aad6e186e17b",
   "metadata": {},
   "source": [
    "### What This Example shows"
   ]
  },
  {
   "cell_type": "markdown",
   "id": "3bcf1ebc-122d-4266-bb07-08e1b783abab",
   "metadata": {},
   "source": [
    "This final example is an end-to-end macro-example showcasing the capabilities of jax on a end-to-end algorithm with a few subtlelties: a mixture of gaussian algorithms. In particular, this examples demostrates:\n",
    "\n",
    "- the functional nature of jax through the use of functional slice setting semantics (x = x.at[i].set(y))\n",
    "- the use of user-defined PyTrees, both as input and output algorithm\n",
    "- top-level use of jax.vmap to seamlessly vectorize the algorithm over random initializations"
   ]
  },
  {
   "cell_type": "markdown",
   "id": "524f1124-831e-46d0-ab3f-3d1a617c1fb7",
   "metadata": {},
   "source": [
    "### Show Me the Code"
   ]
  },
  {
   "cell_type": "code",
   "execution_count": 22,
   "id": "4c45c09b-fbfe-4956-9e06-71ef7ddd9d93",
   "metadata": {},
   "outputs": [],
   "source": [
    "from typing import NamedTuple\n",
    "\n",
    "import jax\n",
    "import jax.numpy as jnp\n",
    "from flax import struct\n",
    "from jax import random\n",
    "from jax._src.api import vmap\n",
    "from jax.nn import log_softmax, logsumexp\n",
    "from jax.tree_util import tree_map\n",
    "from jax.flatten_util import ravel_pytree  # type: ignore\n",
    "from numpyro import distributions as np_distributions\n",
    "import numpy as np\n",
    "\n",
    "from typing import Any\n",
    "Array, Numeric, PRNGKeyArray = Any, Any, Any"
   ]
  },
  {
   "cell_type": "code",
   "execution_count": 25,
   "id": "12fdf9e5-cb5a-44d6-a55c-b55b077be951",
   "metadata": {},
   "outputs": [],
   "source": [
    "class MOGDistribution(np_distributions.Distribution):\n",
    "    def __init__(self, cluster_means: Array, cluster_covs: Array, cluster_props: Array):\n",
    "        assert len(cluster_means.shape) == 2\n",
    "        self._num_clusters, self._num_dims = cluster_means.shape\n",
    "        self.cluster_means = cluster_means\n",
    "\n",
    "        assert len(cluster_props.shape) == 1\n",
    "        self.cluster_props = cluster_props\n",
    "\n",
    "        self.cluster_covs = cluster_covs\n",
    "\n",
    "        self._dists = np_distributions.MultivariateNormal(\n",
    "            cluster_means, covariance_matrix=cluster_covs\n",
    "        )\n",
    "\n",
    "        super(MOGDistribution, self).__init__(\n",
    "            batch_shape=(), event_shape=(self._num_dims,)\n",
    "        )\n",
    "\n",
    "    def log_prob(self, x: Array):\n",
    "        assert len(x.shape) == 1\n",
    "        return logsumexp(self._dists.log_prob(x), b=self.cluster_props)\n",
    "\n",
    "    def _sample_from_cluster_idx(self, key, idx):\n",
    "        return tree_map(lambda d: d[idx], self._dists).sample(key)\n",
    "\n",
    "    def sample(self, key: PRNGKeyArray, sample_shape: tuple = ()) -> Array:\n",
    "        if sample_shape == tuple():\n",
    "            sample_shape = (1,)\n",
    "\n",
    "        key, key_latent = random.split(key)\n",
    "\n",
    "        mn = np_distributions.Categorical(probs=self.cluster_props)\n",
    "        idxs = mn.sample(key_latent, sample_shape=sample_shape)\n",
    "        keys_observed = random.split(key, num=sample_shape[0])\n",
    "        return vmap(self._sample_from_cluster_idx, in_axes=(0, 0))(  # type: ignore\n",
    "            keys_observed, idxs\n",
    "        )"
   ]
  },
  {
   "cell_type": "code",
   "execution_count": 26,
   "id": "ed3896a3-f636-40b5-96ce-6c9d1a771af2",
   "metadata": {},
   "outputs": [],
   "source": [
    "class MOGTrainingConfig(struct.PyTreeNode):\n",
    "    num_clusters: int = struct.field(pytree_node=False)\n",
    "    max_iter: int = struct.field(pytree_node=False)\n",
    "    num_inits: int = struct.field(pytree_node=False)\n",
    "    min_std: float = struct.field(pytree_node=True, default=0.01)\n",
    "    max_train_samples: int = struct.field(pytree_node=False, default=1000)\n",
    "    cov_reg_param: int = struct.field(pytree_node=False, default=1e-6)"
   ]
  },
  {
   "cell_type": "code",
   "execution_count": 29,
   "id": "ec1d8153-fd45-4cfa-a9f0-2f8633c7e257",
   "metadata": {},
   "outputs": [],
   "source": [
    "def _kmeans_plus_plus_init(data: Array, num_clusters: int, key: PRNGKeyArray) -> Array:\n",
    "    num_points, num_dim = data.shape\n",
    "    clusters = jnp.empty((num_clusters, num_dim))\n",
    "\n",
    "    init_cluster_data_idx = random.choice(key, a=num_points)\n",
    "    init_cluster_center = data[init_cluster_data_idx, :]\n",
    "\n",
    "    this_cluster_center = init_cluster_center\n",
    "    clusters = clusters.at[0, :].set(this_cluster_center)\n",
    "\n",
    "    all_sq_dists = jnp.inf * jnp.ones((num_points, num_clusters))\n",
    "\n",
    "    for i in range(num_clusters - 1):\n",
    "        sq_dists = jnp.sum(jnp.square(data - this_cluster_center), axis=1)\n",
    "\n",
    "        all_sq_dists = all_sq_dists.at[:, i].set(sq_dists)\n",
    "        min_sq_dists = jnp.min(all_sq_dists, axis=1)\n",
    "\n",
    "        key, subkey = random.split(key)\n",
    "        next_cluster_idx = random.categorical(\n",
    "            subkey, logits=jnp.log(min_sq_dists + 1e-15)\n",
    "        )\n",
    "        next_cluster_center = data[next_cluster_idx]\n",
    "\n",
    "        this_cluster_center = next_cluster_center\n",
    "        clusters = clusters.at[i + 1, :].set(this_cluster_center)\n",
    "\n",
    "    return clusters"
   ]
  },
  {
   "cell_type": "code",
   "execution_count": 30,
   "id": "9f7c926c-9a55-4361-8fde-30a342a82055",
   "metadata": {},
   "outputs": [],
   "source": [
    "class MOGResult(NamedTuple):\n",
    "    # don't return a MOGDistribution because numpyro Distributions objects are not\n",
    "    # vmap-able\n",
    "    min_std: float\n",
    "    cluster_init: Array\n",
    "    cluster_means: Array\n",
    "    cluster_covs: Array\n",
    "    cluster_props: Array\n",
    "    log_probs: Array\n",
    "    final_log_prob: Numeric\n",
    "    converged: bool\n",
    "    num_iter_convergence: Numeric\n",
    "\n",
    "    def to_dist(self) -> MOGDistribution:\n",
    "        return MOGDistribution(\n",
    "            self.cluster_means, self.cluster_covs, self.cluster_props\n",
    "        )"
   ]
  },
  {
   "cell_type": "code",
   "execution_count": 31,
   "id": "3d41eeda-49b6-4dec-8bb4-ab01d787dc88",
   "metadata": {},
   "outputs": [],
   "source": [
    "def _fit_one_mog(\n",
    "    data: Array, num_clusters: int, min_std: float, max_iter: int,\n",
    "    max_train_samples: int, cov_reg_param: float, key: PRNGKeyArray\n",
    ") -> MOGResult:\n",
    "    num_points, num_dims = data.shape\n",
    "\n",
    "    assert len(data.shape) == 2\n",
    "    # TODO: kmeans++?\n",
    "\n",
    "    if data.shape[0] > max_train_samples:\n",
    "        key, subkey = random.split(key)\n",
    "        data = random.permutation(subkey, data, axis=0)\n",
    "        data = data[:max_train_samples]\n",
    "\n",
    "    # init_cluster_data_idx = random.choice(key, a=num_points, shape=(num_clusters,))\n",
    "\n",
    "    # cluster_means = data[init_cluster_data_idx]\n",
    "    key, key_init = random.split(key)\n",
    "    init_cluster_means = _kmeans_plus_plus_init(data, num_clusters, key_init)\n",
    "    init_cluster_covs = jnp.stack(\n",
    "        [jnp.eye(num_dims) for _ in range(num_clusters)], axis=0\n",
    "    )\n",
    "\n",
    "    log_cluster_props = -np.log(num_clusters) * jnp.ones((num_clusters,))\n",
    "\n",
    "    log_prob = prev_log_prob = -jnp.inf\n",
    "\n",
    "    iter_no = 0\n",
    "    assert max_iter > 0\n",
    "\n",
    "    converged = False\n",
    "    num_iter_convergence = 0\n",
    "\n",
    "    log_probs = jnp.empty((max_iter,))\n",
    "\n",
    "    cluster_means = init_cluster_means\n",
    "    cluster_covs = init_cluster_covs\n",
    "\n",
    "\n",
    "    for iter_no in range(max_iter):\n",
    "        dists = np_distributions.MultivariateNormal(\n",
    "            cluster_means,\n",
    "            covariance_matrix=cluster_covs,\n",
    "        )\n",
    "        log_joint = dists.log_prob(data[:, None, :]) + log_cluster_props[None, :]\n",
    "\n",
    "        log_prob = logsumexp(log_joint, axis=1).mean()\n",
    "        log_probs = log_probs.at[iter_no].set(log_prob)\n",
    "\n",
    "        # assert log_prob - prev_log_prob > -1e-6\n",
    "        converged = jnp.abs(log_prob - prev_log_prob) < 1e-4\n",
    "        num_iter_convergence += 1 - converged\n",
    "\n",
    "        # E-step: compute posterior p(z=k|x) (num_points, num_clusters)\n",
    "        log_resps = log_softmax(log_joint, axis=1)\n",
    "\n",
    "        # M-step\n",
    "        # data: (num_points, dim)\n",
    "        # normalized_data_weights: (num_points,num_clusters)\n",
    "        normalized_data_weights = jax.nn.softmax(log_resps, axis=0)\n",
    "        cluster_means = jnp.sum(data[:, None, :] * normalized_data_weights[:, :, None], axis=0)\n",
    "\n",
    "        log_cluster_props = jax.nn.log_softmax(jax.nn.logsumexp(log_resps, axis=0))\n",
    "\n",
    "        def _compute_cov(mean, weights):\n",
    "            return (\n",
    "                (data - mean).T @ jnp.diag(weights) @ (data - mean) + cov_reg_param * jnp.eye(num_dims)\n",
    "            )\n",
    "\n",
    "        cluster_covs = vmap(_compute_cov, in_axes=(0, 1))(cluster_means, normalized_data_weights)  # type: ignore\n",
    "\n",
    "        prev_log_prob = log_prob\n",
    "\n",
    "    def smooth_cov(cov_mat):\n",
    "        from jax.numpy.linalg import eigh\n",
    "        eigvals, eigvecs = eigh(cov_mat)\n",
    "        return eigvecs @ jnp.diag(jnp.clip(jnp.real(eigvals), a_min=min_std ** 2)) @ eigvecs.T\n",
    "\n",
    "    cluster_covs = vmap(smooth_cov)(cluster_covs)\n",
    "    return MOGResult(\n",
    "        min_std,\n",
    "        init_cluster_means,\n",
    "        cluster_means,\n",
    "        cluster_covs,\n",
    "        jax.nn.softmax(log_cluster_props),\n",
    "        log_probs,\n",
    "        log_prob,\n",
    "        converged,\n",
    "        num_iter_convergence,\n",
    "    )"
   ]
  },
  {
   "cell_type": "code",
   "execution_count": 32,
   "id": "2a4cb854-b195-4aa4-b3f5-6beddf8bde9e",
   "metadata": {},
   "outputs": [],
   "source": [
    "def fit_mog(data: Array, config: MOGTrainingConfig, key: PRNGKeyArray) -> MOGResult:\n",
    "    keys = random.split(key, num=config.num_inits)\n",
    "    vmapped_fit = vmap(_fit_one_mog, in_axes=(None, None, None, None, None, None, 0))  # type: ignore\n",
    "    rets = vmapped_fit(data, config.num_clusters, config.min_std, config.max_iter,\n",
    "                       config.max_train_samples, config.cov_reg_param, keys)\n",
    "\n",
    "    print(rets.final_log_prob)\n",
    "    best_fit_idx = jnp.argmax(rets.final_log_prob)\n",
    "    return tree_map(lambda l: l[best_fit_idx], rets)\n"
   ]
  },
  {
   "cell_type": "code",
   "execution_count": 33,
   "id": "bdd8aac9-31fe-48fd-bb8e-77437b83ef14",
   "metadata": {},
   "outputs": [
    {
     "name": "stdout",
     "output_type": "stream",
     "text": [
      "[-1.3706485 -1.3741974 -1.4081246]\n"
     ]
    }
   ],
   "source": [
    "data = jnp.concatenate([\n",
    "    np_distributions.Normal(0, 0.25).sample(random.PRNGKey(0), (1000, 2)),\n",
    "    np_distributions.Normal(1, 0.25).sample(random.PRNGKey(1), (1000, 2)),\n",
    "    np_distributions.Normal(2, 0.25).sample(random.PRNGKey(2), (1000, 2))\n",
    "    ], axis=0)\n",
    "\n",
    "# fix the algorithm by increasing the number of clusters\n",
    "ret = fit_mog(data, MOGTrainingConfig(2, 100, 3, 0.01), random.PRNGKey(1))"
   ]
  },
  {
   "cell_type": "code",
   "execution_count": 34,
   "id": "6abf29a7-4fe2-49f8-9bc2-8c3877d013d9",
   "metadata": {},
   "outputs": [],
   "source": [
    "simulated_data = ret.to_dist().sample(random.PRNGKey(3), sample_shape=(len(data),))"
   ]
  },
  {
   "cell_type": "code",
   "execution_count": 37,
   "id": "537f7b68-85bf-4659-9a90-db1c000859ef",
   "metadata": {},
   "outputs": [
    {
     "data": {
      "text/plain": [
       "Text(0.5, 1.0, 'MoG-simulated data')"
      ]
     },
     "execution_count": 37,
     "metadata": {},
     "output_type": "execute_result"
    },
    {
     "data": {
      "image/png": "[encoded data removed]",
      "text/plain": [
       "<Figure size 1000x500 with 2 Axes>"
      ]
     },
     "metadata": {},
     "output_type": "display_data"
    }
   ],
   "source": [
    "import matplotlib.pyplot as plt\n",
    "f, (ax1, ax2) = plt.subplots(ncols=2, figsize=(10, 5))\n",
    "ax1.scatter(data[:, 0], data[:, 1], s=3)\n",
    "ax1.set_title('training data')\n",
    "\n",
    "ax2.scatter(simulated_data[:, 0], simulated_data[:, 1], s=3)\n",
    "ax2.set_title('MoG-simulated data')"
   ]
  }
 ],
 "metadata": {
  "kernelspec": {
   "display_name": "Python 3 (ipykernel)",
   "language": "python",
   "name": "python3"
  },
  "language_info": {
   "codemirror_mode": {
    "name": "ipython",
    "version": 3
   },
   "file_extension": ".py",
   "mimetype": "text/x-python",
   "name": "python",
   "nbconvert_exporter": "python",
   "pygments_lexer": "ipython3",
   "version": "3.9.13"
  }
 },
 "nbformat": 4,
 "nbformat_minor": 5
}
